{
 "cells": [
  {
   "cell_type": "markdown",
   "metadata": {},
   "source": [
    "# Numerical Analysis : Assignment No. 01\n",
    "\n",
    "B6TB1505 Daichi HAYASHI (Ohnishi Lab.)\n",
    "\n",
    "## content\n",
    "Using one of 4 schemes below, find root of the equation $ (1) $ and obtain $\\phi$.\n",
    "* Interval halving (bisection)\n",
    "* Flse position (regula falsi)\n",
    "* Newton-Raphson method\n",
    "* Secant method\n",
    "\n",
    "$$\n",
    "  f(\\phi) = \\dfrac53\\cos 40^\\circ - \\dfrac52\\cos \\phi + \\dfrac{11}6 - \\cos\\left(40^\\circ - \\phi \\right)\n",
    "$$\n"
   ]
  },
  {
   "cell_type": "code",
   "execution_count": 1,
   "metadata": {},
   "outputs": [
    {
     "name": "stdout",
     "output_type": "stream",
     "text": [
      "Start finding Root of function with the Regula Falsi...\n",
      "loop  1, a = 30.0000000, func(a) = -3.980e-02, b = 40.0000000, func(b) =  1.950e-01, phi = 31.6952277, func(phi) = -6.577e-03\n",
      "loop  2, a = 31.6952277, func(a) = -6.577e-03, b = 40.0000000, func(b) =  1.950e-01, phi = 31.9662384, func(phi) = -1.012e-03\n",
      "loop  3, a = 31.9662384, func(a) = -1.012e-03, b = 40.0000000, func(b) =  1.950e-01, phi = 32.0077375, func(phi) = -1.541e-04\n",
      "loop  4, a = 32.0077375, func(a) = -1.541e-04, b = 40.0000000, func(b) =  1.950e-01, phi = 32.0140495, func(phi) = -2.342e-05\n",
      "loop  5, a = 32.0140495, func(a) = -2.342e-05, b = 40.0000000, func(b) =  1.950e-01, phi = 32.0150086, func(phi) = -3.557e-06\n",
      "loop  6, a = 32.0150086, func(a) = -3.557e-06, b = 40.0000000, func(b) =  1.950e-01, phi = 32.0151543, func(phi) = -5.404e-07\n",
      "loop  7, a = 32.0151543, func(a) = -5.404e-07, b = 40.0000000, func(b) =  1.950e-01, phi = 32.0151764, func(phi) = -8.210e-08\n",
      "loop  8, a = 32.0151764, func(a) = -8.210e-08, b = 40.0000000, func(b) =  1.950e-01, phi = 32.0151798, func(phi) = -1.247e-08\n",
      "loop  9, a = 32.0151798, func(a) = -1.247e-08, b = 40.0000000, func(b) =  1.950e-01, phi = 32.0151803, func(phi) = -1.895e-09\n",
      "loop 10, a = 32.0151803, func(a) = -1.895e-09, b = 40.0000000, func(b) =  1.950e-01, phi = 32.0151803, func(phi) = -2.878e-10\n",
      "Root has been found within accuracy (func(phi) = 1.0e-09, iteration = 10).\n"
     ]
    }
   ],
   "source": [
    "# Numerical Analysis calss Assignment\n",
    "# created by Daichi Hayashi (B6TB1505) Oct. 07, 2019.\n",
    "# Python script of \"False Position method\" (Regula Falsi)\n",
    "import numpy as np\n",
    "import matplotlib.pyplot as plt\n",
    "\n",
    "def func(x):\n",
    "  alpha = 40.0 # input angle [deg.]\n",
    "  return 5.0/3.0*np.cos(np.deg2rad(alpha)) - 5.0/2.0*np.cos(np.deg2rad(x)) + 11.0/6.0 - np.cos(np.deg2rad(alpha-x))\n",
    "\n",
    "def main():\n",
    "  print('Start finding Root of function with the Regula Falsi...')\n",
    "  n_max = 1000 # iteration max number\n",
    "  num_a = 30.0 # smaller initial value [deg.]\n",
    "  num_b = 40.0 # larger initial value [deg.]\n",
    "  eps1  = 1e-9 # width threashold\n",
    "  eps2  = 1e-9 # threashold\n",
    "\n",
    "  if func(num_a)*func(num_b) > 0: # same sign -> initial value is wrong\n",
    "    print(\"The initial values should be both side of root\")\n",
    "    return\n",
    "  else:\n",
    "    for n in range(n_max):\n",
    "      fa    = func(num_a)\n",
    "      fb    = func(num_b)\n",
    "      num_c = (num_b*fa - num_a*fb)/(fa - fb)\n",
    "      fc    = func(num_c)\n",
    "      # print status\n",
    "      print('loop {:>2d}, a = {:2.7f}, func(a) = {:10.3e}, b = {:2.7f}, func(b) = {:10.3e}, phi = {:2.7f}, func(phi) = {:10.3e}'.format(n+1,num_a,fa,num_b,fb,num_c,fc))\n",
    "      if abs(fc) < eps2: # judge from function(c)\n",
    "        print('Root has been found within accuracy (func(phi) = {:5.1e}, iteration = {:>2d}).'.format(eps2,n+1))\n",
    "        return\n",
    "      elif abs(num_b - num_a) < eps1: # judge from |b - a|, in almost case, this condition has NO meaning.\n",
    "        print('Root has been found within the very small phi width (eps = {:5.1e}, iteration = {:>2d}).'.format(eps1,n+1))\n",
    "        return\n",
    "      if fa * fc > 0:\n",
    "        num_a = num_c\n",
    "      elif fb * fc > 0:\n",
    "        num_b = num_c\n",
    "\n",
    "if __name__ == '__main__':\n",
    "  main()\n"
   ]
  }
 ],
 "metadata": {
  "kernelspec": {
   "display_name": "Python 3",
   "language": "python",
   "name": "python3"
  },
  "language_info": {
   "codemirror_mode": {
    "name": "ipython",
    "version": 3
   },
   "file_extension": ".py",
   "mimetype": "text/x-python",
   "name": "python",
   "nbconvert_exporter": "python",
   "pygments_lexer": "ipython3",
   "version": "3.7.0"
  }
 },
 "nbformat": 4,
 "nbformat_minor": 2
}
