{
 "cells": [
  {
   "cell_type": "markdown",
   "metadata": {},
   "source": [
    "# Numerical Analysis : Assignment No. 01\n",
    "\n",
    "B6TB1505 Daichi HAYASHI (Ohnishi Lab.)\n",
    "\n",
    "## content\n",
    "Using one of 4 schemes below, find root of the equation $ (1) $ and obtain $\\phi$.\n",
    "* Interval halving (Bisection)\n",
    "* False Position (Regula Falsi)\n",
    "* Newton-Raphson (Newton method)\n",
    "* Secant method\n",
    "I choose False position. The reason is, I've already used Newton-Raphson method and I wanted to understand how False position works each iterarion by coding by myself. \n",
    "\n",
    "$$\n",
    "  f(\\phi) = \\dfrac53\\cos 40^\\circ - \\dfrac52\\cos \\phi + \\dfrac{11}6 - \\cos\\left(40^\\circ - \\phi \\right)\n",
    "$$\n",
    "\n",
    "I show the Python script of False position below. Under the script, result text will be shown."
   ]
  },
  {
   "cell_type": "code",
   "execution_count": 1,
   "metadata": {
    "scrolled": true
   },
   "outputs": [
    {
     "name": "stdout",
     "output_type": "stream",
     "text": [
      "Start finding Root of function with the Regula Falsi...\n",
      "loop  1, a=30.000000, f(a)=-0.03979719, b=40.0, x=31.6952277, f(x)=-0.006576877\n",
      "loop  2, a=31.695228, f(a)=-0.00657688, b=40.0, x=31.9662384, f(x)=-0.001012328\n",
      "loop  3, a=31.966238, f(a)=-0.00101233, b=40.0, x=32.0077375, f(x)=-0.000154096\n",
      "loop  4, a=32.007738, f(a)=-0.00015410, b=40.0, x=32.0140495, f(x)=-0.000023417\n",
      "loop  5, a=32.014050, f(a)=-0.00002342, b=40.0, x=32.0150086, f(x)=-0.000003557\n",
      "loop  6, a=32.015009, f(a)=-0.00000356, b=40.0, x=32.0151543, f(x)=-0.000000540\n",
      "loop  7, a=32.015154, f(a)=-0.00000054, b=40.0, x=32.0151764, f(x)=-0.000000082\n",
      "loop  8, a=32.015176, f(a)=-0.00000008, b=40.0, x=32.0151798, f(x)=-0.000000012\n",
      "loop  9, a=32.015180, f(a)=-0.00000001, b=40.0, x=32.0151803, f(x)=-0.000000002\n",
      "loop 10, a=32.015180, f(a)=-0.00000000, b=40.0, x=32.0151803, f(x)=-0.000000000\n",
      "Root has been found within accuracy (f(x)=1.0e-09, loop=10).\n"
     ]
    }
   ],
   "source": [
    "# Numerical Analysis calss Assignment\n",
    "# created by Daichi Hayashi (B6TB1505) Oct. 07, 2019.\n",
    "# Python script of \"False Position method\" (Regula Falsi)\n",
    "import numpy as np\n",
    "import matplotlib.pyplot as plt\n",
    "\n",
    "def func(x):\n",
    "  alpha = 40.0 # input angle [deg.]\n",
    "  return 5.0/3.0*np.cos(np.deg2rad(alpha)) - 5.0/2.0*np.cos(np.deg2rad(x)) \\\n",
    "  + 11.0/6.0 - np.cos(np.deg2rad(alpha-x))\n",
    "\n",
    "def main():\n",
    "  print('Start finding Root of function with the Regula Falsi...')\n",
    "  n_max = 1000 # iteration max number\n",
    "  num_a = 30.0 # smaller initial value [deg.]\n",
    "  num_b = 40.0 # larger initial value [deg.]\n",
    "  eps1  = 1e-9 # width threashold\n",
    "  eps2  = 1e-9 # threashold\n",
    "\n",
    "  if func(num_a)*func(num_b) > 0: # same sign -> initial value is wrong\n",
    "    print(\"The initial values should be both side of root\")\n",
    "    return\n",
    "  else:\n",
    "    for n in range(n_max):\n",
    "      fa    = func(num_a)\n",
    "      fb    = func(num_b)\n",
    "      num_c = (num_b*fa - num_a*fb)/(fa - fb)\n",
    "      fc    = func(num_c)\n",
    "      # print status\n",
    "      print('loop {:>2d}, a={:.6f}, f(a)={:.8f}, b={:.1f}, x={:.7f}, \\\n",
    "f(x)={:.9f}'.format(n+1,num_a,fa,num_b,num_c,fc))\n",
    "      if abs(fc) < eps2: # judge from function(c)\n",
    "        print('Root has been found within accuracy (f(x)={:5.1e}, \\\n",
    "loop={:>2d}).'.format(eps2,n+1))\n",
    "        return\n",
    "      # judge from |b-a|, in almost case, this condition has NO meaning.\n",
    "      elif abs(num_b - num_a) < eps1:\n",
    "        print('Root has been found within the very small phi width \\\n",
    "(eps={:5.1e}, loop={:>2d}).'.format(eps1,n+1))\n",
    "        return\n",
    "      if fa * fc > 0:\n",
    "        num_a = num_c\n",
    "      elif fb * fc > 0:\n",
    "        num_b = num_c\n",
    "\n",
    "if __name__ == '__main__':\n",
    "  main()"
   ]
  },
  {
   "cell_type": "markdown",
   "metadata": {},
   "source": [
    "In this script, the desired $\\phi$ is x, and $\\varepsilon = 1.0\\times10^{-9}$."
   ]
  },
  {
   "cell_type": "code",
   "execution_count": null,
   "metadata": {},
   "outputs": [],
   "source": []
  }
 ],
 "metadata": {
  "kernelspec": {
   "display_name": "Python 3",
   "language": "python",
   "name": "python3"
  },
  "language_info": {
   "codemirror_mode": {
    "name": "ipython",
    "version": 3
   },
   "file_extension": ".py",
   "mimetype": "text/x-python",
   "name": "python",
   "nbconvert_exporter": "python",
   "pygments_lexer": "ipython3",
   "version": "3.6.0"
  }
 },
 "nbformat": 4,
 "nbformat_minor": 2
}
